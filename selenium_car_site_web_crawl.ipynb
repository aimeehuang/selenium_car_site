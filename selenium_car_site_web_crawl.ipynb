{
 "cells": [
  {
   "cell_type": "code",
   "execution_count": 1,
   "metadata": {},
   "outputs": [
    {
     "name": "stdout",
     "output_type": "stream",
     "text": [
      "Collecting pyquery\n",
      "  Downloading pyquery-1.4.0-py2.py3-none-any.whl\n",
      "Collecting cssselect>0.7.9 (from pyquery)\n",
      "  Downloading cssselect-1.0.3-py2.py3-none-any.whl\n",
      "Requirement already satisfied: lxml>=2.1 in c:\\users\\aimee.huang\\appdata\\local\\continuum\\anaconda3.5\\lib\\site-packages (from pyquery)\n",
      "Installing collected packages: cssselect, pyquery\n",
      "Successfully installed cssselect-1.0.3 pyquery-1.4.0\n"
     ]
    }
   ],
   "source": [
    "#!pip install pyquery\n",
    "#!pip install selenium"
   ]
  },
  {
   "cell_type": "code",
   "execution_count": 3,
   "metadata": {
    "collapsed": true
   },
   "outputs": [],
   "source": [
    "# webdriver連線:chrome要更新到最新版本\n",
    "from selenium import webdriver\n",
    "from pyquery import PyQuery as pq \n",
    "from bs4 import BeautifulSoup\n",
    "import time\n",
    "import pandas as pd"
   ]
  },
  {
   "cell_type": "code",
   "execution_count": 4,
   "metadata": {},
   "outputs": [
    {
     "ename": "WebDriverException",
     "evalue": "Message: chrome not reachable\n  (Session info: chrome=70.0.3538.67)\n  (Driver info: chromedriver=2.43.600210 (68dcf5eebde37173d4027fa8635e332711d2874a),platform=Windows NT 6.1.7601 SP1 x86_64)\n",
     "output_type": "error",
     "traceback": [
      "\u001b[1;31m---------------------------------------------------------------------------\u001b[0m",
      "\u001b[1;31mWebDriverException\u001b[0m                        Traceback (most recent call last)",
      "\u001b[1;32m<ipython-input-4-b1efafac68f1>\u001b[0m in \u001b[0;36m<module>\u001b[1;34m()\u001b[0m\n\u001b[0;32m     63\u001b[0m         \u001b[0mxpath\u001b[0m \u001b[1;33m=\u001b[0m \u001b[1;34m\"//div[contains(@class, 'selMyCarModelList') and contains(.//span, '\"\u001b[0m\u001b[1;33m+\u001b[0m\u001b[0mmodels\u001b[0m\u001b[1;33m+\u001b[0m\u001b[1;34m\"')]\"\u001b[0m\u001b[1;33m\u001b[0m\u001b[0m\n\u001b[0;32m     64\u001b[0m         \u001b[0mtime\u001b[0m\u001b[1;33m.\u001b[0m\u001b[0msleep\u001b[0m\u001b[1;33m(\u001b[0m\u001b[1;36m1\u001b[0m\u001b[1;33m)\u001b[0m\u001b[1;33m\u001b[0m\u001b[0m\n\u001b[1;32m---> 65\u001b[1;33m         \u001b[0mdriver\u001b[0m\u001b[1;33m.\u001b[0m\u001b[0mfind_element_by_class_name\u001b[0m\u001b[1;33m(\u001b[0m\u001b[1;34m'selMyCarBody'\u001b[0m\u001b[1;33m)\u001b[0m\u001b[1;33m\u001b[0m\u001b[0m\n\u001b[0m\u001b[0;32m     66\u001b[0m         \u001b[0mtime\u001b[0m\u001b[1;33m.\u001b[0m\u001b[0msleep\u001b[0m\u001b[1;33m(\u001b[0m\u001b[1;36m1\u001b[0m\u001b[1;33m)\u001b[0m\u001b[1;33m\u001b[0m\u001b[0m\n\u001b[0;32m     67\u001b[0m         \u001b[1;32mtry\u001b[0m\u001b[1;33m:\u001b[0m\u001b[1;33m\u001b[0m\u001b[0m\n",
      "\u001b[1;32m~\\AppData\\Local\\Continuum\\anaconda3.5\\lib\\site-packages\\selenium\\webdriver\\remote\\webdriver.py\u001b[0m in \u001b[0;36mfind_element_by_class_name\u001b[1;34m(self, name)\u001b[0m\n\u001b[0;32m    553\u001b[0m             \u001b[0melement\u001b[0m \u001b[1;33m=\u001b[0m \u001b[0mdriver\u001b[0m\u001b[1;33m.\u001b[0m\u001b[0mfind_element_by_class_name\u001b[0m\u001b[1;33m(\u001b[0m\u001b[1;34m'foo'\u001b[0m\u001b[1;33m)\u001b[0m\u001b[1;33m\u001b[0m\u001b[0m\n\u001b[0;32m    554\u001b[0m         \"\"\"\n\u001b[1;32m--> 555\u001b[1;33m         \u001b[1;32mreturn\u001b[0m \u001b[0mself\u001b[0m\u001b[1;33m.\u001b[0m\u001b[0mfind_element\u001b[0m\u001b[1;33m(\u001b[0m\u001b[0mby\u001b[0m\u001b[1;33m=\u001b[0m\u001b[0mBy\u001b[0m\u001b[1;33m.\u001b[0m\u001b[0mCLASS_NAME\u001b[0m\u001b[1;33m,\u001b[0m \u001b[0mvalue\u001b[0m\u001b[1;33m=\u001b[0m\u001b[0mname\u001b[0m\u001b[1;33m)\u001b[0m\u001b[1;33m\u001b[0m\u001b[0m\n\u001b[0m\u001b[0;32m    556\u001b[0m \u001b[1;33m\u001b[0m\u001b[0m\n\u001b[0;32m    557\u001b[0m     \u001b[1;32mdef\u001b[0m \u001b[0mfind_elements_by_class_name\u001b[0m\u001b[1;33m(\u001b[0m\u001b[0mself\u001b[0m\u001b[1;33m,\u001b[0m \u001b[0mname\u001b[0m\u001b[1;33m)\u001b[0m\u001b[1;33m:\u001b[0m\u001b[1;33m\u001b[0m\u001b[0m\n",
      "\u001b[1;32m~\\AppData\\Local\\Continuum\\anaconda3.5\\lib\\site-packages\\selenium\\webdriver\\remote\\webdriver.py\u001b[0m in \u001b[0;36mfind_element\u001b[1;34m(self, by, value)\u001b[0m\n\u001b[0;32m    953\u001b[0m         return self.execute(Command.FIND_ELEMENT, {\n\u001b[0;32m    954\u001b[0m             \u001b[1;34m'using'\u001b[0m\u001b[1;33m:\u001b[0m \u001b[0mby\u001b[0m\u001b[1;33m,\u001b[0m\u001b[1;33m\u001b[0m\u001b[0m\n\u001b[1;32m--> 955\u001b[1;33m             'value': value})['value']\n\u001b[0m\u001b[0;32m    956\u001b[0m \u001b[1;33m\u001b[0m\u001b[0m\n\u001b[0;32m    957\u001b[0m     \u001b[1;32mdef\u001b[0m \u001b[0mfind_elements\u001b[0m\u001b[1;33m(\u001b[0m\u001b[0mself\u001b[0m\u001b[1;33m,\u001b[0m \u001b[0mby\u001b[0m\u001b[1;33m=\u001b[0m\u001b[0mBy\u001b[0m\u001b[1;33m.\u001b[0m\u001b[0mID\u001b[0m\u001b[1;33m,\u001b[0m \u001b[0mvalue\u001b[0m\u001b[1;33m=\u001b[0m\u001b[1;32mNone\u001b[0m\u001b[1;33m)\u001b[0m\u001b[1;33m:\u001b[0m\u001b[1;33m\u001b[0m\u001b[0m\n",
      "\u001b[1;32m~\\AppData\\Local\\Continuum\\anaconda3.5\\lib\\site-packages\\selenium\\webdriver\\remote\\webdriver.py\u001b[0m in \u001b[0;36mexecute\u001b[1;34m(self, driver_command, params)\u001b[0m\n\u001b[0;32m    310\u001b[0m         \u001b[0mresponse\u001b[0m \u001b[1;33m=\u001b[0m \u001b[0mself\u001b[0m\u001b[1;33m.\u001b[0m\u001b[0mcommand_executor\u001b[0m\u001b[1;33m.\u001b[0m\u001b[0mexecute\u001b[0m\u001b[1;33m(\u001b[0m\u001b[0mdriver_command\u001b[0m\u001b[1;33m,\u001b[0m \u001b[0mparams\u001b[0m\u001b[1;33m)\u001b[0m\u001b[1;33m\u001b[0m\u001b[0m\n\u001b[0;32m    311\u001b[0m         \u001b[1;32mif\u001b[0m \u001b[0mresponse\u001b[0m\u001b[1;33m:\u001b[0m\u001b[1;33m\u001b[0m\u001b[0m\n\u001b[1;32m--> 312\u001b[1;33m             \u001b[0mself\u001b[0m\u001b[1;33m.\u001b[0m\u001b[0merror_handler\u001b[0m\u001b[1;33m.\u001b[0m\u001b[0mcheck_response\u001b[0m\u001b[1;33m(\u001b[0m\u001b[0mresponse\u001b[0m\u001b[1;33m)\u001b[0m\u001b[1;33m\u001b[0m\u001b[0m\n\u001b[0m\u001b[0;32m    313\u001b[0m             response['value'] = self._unwrap_value(\n\u001b[0;32m    314\u001b[0m                 response.get('value', None))\n",
      "\u001b[1;32m~\\AppData\\Local\\Continuum\\anaconda3.5\\lib\\site-packages\\selenium\\webdriver\\remote\\errorhandler.py\u001b[0m in \u001b[0;36mcheck_response\u001b[1;34m(self, response)\u001b[0m\n\u001b[0;32m    240\u001b[0m                 \u001b[0malert_text\u001b[0m \u001b[1;33m=\u001b[0m \u001b[0mvalue\u001b[0m\u001b[1;33m[\u001b[0m\u001b[1;34m'alert'\u001b[0m\u001b[1;33m]\u001b[0m\u001b[1;33m.\u001b[0m\u001b[0mget\u001b[0m\u001b[1;33m(\u001b[0m\u001b[1;34m'text'\u001b[0m\u001b[1;33m)\u001b[0m\u001b[1;33m\u001b[0m\u001b[0m\n\u001b[0;32m    241\u001b[0m             \u001b[1;32mraise\u001b[0m \u001b[0mexception_class\u001b[0m\u001b[1;33m(\u001b[0m\u001b[0mmessage\u001b[0m\u001b[1;33m,\u001b[0m \u001b[0mscreen\u001b[0m\u001b[1;33m,\u001b[0m \u001b[0mstacktrace\u001b[0m\u001b[1;33m,\u001b[0m \u001b[0malert_text\u001b[0m\u001b[1;33m)\u001b[0m\u001b[1;33m\u001b[0m\u001b[0m\n\u001b[1;32m--> 242\u001b[1;33m         \u001b[1;32mraise\u001b[0m \u001b[0mexception_class\u001b[0m\u001b[1;33m(\u001b[0m\u001b[0mmessage\u001b[0m\u001b[1;33m,\u001b[0m \u001b[0mscreen\u001b[0m\u001b[1;33m,\u001b[0m \u001b[0mstacktrace\u001b[0m\u001b[1;33m)\u001b[0m\u001b[1;33m\u001b[0m\u001b[0m\n\u001b[0m\u001b[0;32m    243\u001b[0m \u001b[1;33m\u001b[0m\u001b[0m\n\u001b[0;32m    244\u001b[0m     \u001b[1;32mdef\u001b[0m \u001b[0m_value_or_default\u001b[0m\u001b[1;33m(\u001b[0m\u001b[0mself\u001b[0m\u001b[1;33m,\u001b[0m \u001b[0mobj\u001b[0m\u001b[1;33m,\u001b[0m \u001b[0mkey\u001b[0m\u001b[1;33m,\u001b[0m \u001b[0mdefault\u001b[0m\u001b[1;33m)\u001b[0m\u001b[1;33m:\u001b[0m\u001b[1;33m\u001b[0m\u001b[0m\n",
      "\u001b[1;31mWebDriverException\u001b[0m: Message: chrome not reachable\n  (Session info: chrome=70.0.3538.67)\n  (Driver info: chromedriver=2.43.600210 (68dcf5eebde37173d4027fa8635e332711d2874a),platform=Windows NT 6.1.7601 SP1 x86_64)\n"
     ]
    }
   ],
   "source": [
    "chromedriver = \"C:\\webdriver\\chromedriver\"\n",
    "driver = webdriver.Chrome(chromedriver)\n",
    "driver.get(\"\")\n",
    "\n",
    "\n",
    "myCarBrand = []\n",
    "myCarModel =[]\n",
    "myCarEngine=[]\n",
    "Cars=[]\n",
    "  \n",
    "#點選我的車款\n",
    "mycar = driver.find_element_by_id('selectMyCar')\n",
    "mycar.click()\n",
    "\n",
    "#找到選車款處css\n",
    "driver.find_element_by_class_name('selMyCarBody')\n",
    "\n",
    "time.sleep(1)\n",
    "\n",
    "#click \"全部\" \n",
    "xpath = \"//*[@id='selMyCarDialog']/div[2]/div[1]/span[1]\"\n",
    "driver.find_element_by_xpath(xpath).click()\n",
    "soup=  BeautifulSoup(driver.page_source,'lxml')    \n",
    "mycarbrand = soup.findAll('div',{'class':'selMyCarList'})    \n",
    "time.sleep(1)\n",
    "\n",
    "#find all car brands\n",
    "for cars in mycarbrand :\n",
    "    car=  cars.findAll('span')\n",
    "    myCarBrand.append(car[0].get_text())\n",
    "#print(myCarBrand)\n",
    "    \n",
    "#選擇品牌\n",
    "for brand in myCarBrand: \n",
    "    brands = brand\n",
    "\n",
    "    xpath=\"//span[.='\"+brands+\"']\" \n",
    "    time.sleep(1)\n",
    "    \n",
    "    #選擇品牌\n",
    "    try:\n",
    "        driver.find_element_by_xpath(xpath).click()\n",
    "    except:\n",
    "        print('exception occur')\n",
    "        continue\n",
    "    time.sleep(1)\n",
    "    driver.find_element_by_class_name('selMyCarBody') \n",
    "    soup2=  BeautifulSoup(driver.page_source,'lxml') #剖析車系\n",
    "\n",
    "    #選擇車系\n",
    "\n",
    "\n",
    "    for model in soup2.findAll(\"div\", {\"class\": \"selMyCarModelList\"}):\n",
    "        myCarModel.append(model.text) #紀錄車系 \n",
    "        #print(model.text) \n",
    "        #print(myCarModel)\n",
    "\n",
    "        #loop每一個車系\n",
    "\n",
    "    for models in myCarModel:\n",
    "        model = models\n",
    "        #xpath = \"//span[.='\"+models+\"']\"\n",
    "        xpath = \"//div[contains(@class, 'selMyCarModelList') and contains(.//span, '\"+models+\"')]\"\n",
    "        time.sleep(1)\n",
    "        driver.find_element_by_class_name('selMyCarBody')\n",
    "        time.sleep(1)\n",
    "        try:\n",
    "            driver.find_element_by_xpath(xpath).click()\n",
    "        except:\n",
    "            print(brands+' /'+models+': exception occur!')\n",
    "            continue\n",
    "        time.sleep(1)\n",
    "        soup3=  BeautifulSoup(driver.page_source,'lxml') #剖析排氣量\n",
    "\n",
    "\n",
    "    #紀錄排氣量\n",
    "\n",
    "        #selMyCarBody > selMyCarModelList >text\n",
    "        divTag = soup3.find_all(\"div\", {\"class\": \"selMyCarBody\"})\n",
    "\n",
    "        for tag in divTag:\n",
    "            tdTags = tag.find_all(\"div\", {\"class\": \"selMyCarModelList\"})\n",
    "            for tag in tdTags:\n",
    "                #print(tag.text)\n",
    "                myCarEngine.append(tag.text)\n",
    "\n",
    "        #選擇排氣量\n",
    "        for engines in myCarEngine:\n",
    "            engine = engines\n",
    "            xpath = \"//div[contains(@class, 'selMyCarModelList') and contains(.//span, '\"+engines+\"')]\"\n",
    "            time.sleep(3)\n",
    "            driver.find_element_by_class_name('selMyCarBody')\n",
    "            time.sleep(3)\n",
    "            try:\n",
    "                driver.find_element_by_xpath(xpath).click()\n",
    "            except:\n",
    "                print(brands+' /'+models+'/ '+engine+': exception occur!')\n",
    "                continue\n",
    "            time.sleep(3)\n",
    "            soup4=  BeautifulSoup(driver.page_source,'lxml') #剖析年份   \n",
    "\n",
    "            #紀錄年份\n",
    "            divTag = soup4.find_all(\"div\", {\"class\": \"selMyCarBody\"}) \n",
    "            for tag in divTag:\n",
    "                tdTags = tag.find_all(\"div\", {\"class\": \"selMyCarModelList\"})\n",
    "                for tag in tdTags:\n",
    "                    thisCar=[]\n",
    "                    year = tag.text\n",
    "                    #print(tag.text)     \n",
    "                    thisCar.append(brands)\n",
    "                    thisCar.append(model)\n",
    "                    thisCar.append(engine)\n",
    "                    thisCar.append(year) \n",
    "                    Cars.append(thisCar) #將此款車籍紀錄至Cars\n",
    "\n",
    "           #點擊排氣量\"X\"回到選擇排氣量頁\n",
    "            time.sleep(2)\n",
    "            driver.find_element_by_id('myCarEngine')\n",
    "            time.sleep(2)\n",
    "            driver.find_element_by_xpath(\"//*[@id='myCarEngine']/span[2]\").click() \n",
    "            time.sleep(2)\n",
    "\n",
    "\n",
    "        #點擊車系\"X\"回到選擇車系頁    \n",
    "\n",
    "        driver.find_element_by_id('myCarModel')\n",
    "        time.sleep(2)\n",
    "        driver.find_element_by_xpath(\"//*[@id='myCarModel']/span[2]\").click() \n",
    "        time.sleep(2)            \n",
    "        myCarEngine = []\n",
    "\n",
    "\n",
    "#點擊車系\"X\"回到選擇車系頁    \n",
    "    \n",
    "    driver.find_element_by_id('myCarBrand')\n",
    "    time.sleep(2)\n",
    "    driver.find_element_by_xpath(\"//*[@id='myCarBrand']/span[2]\").click() \n",
    "    time.sleep(2)            \n",
    "    myCarModel = []"
   ]
  },
  {
   "cell_type": "code",
   "execution_count": 5,
   "metadata": {},
   "outputs": [
    {
     "name": "stdout",
     "output_type": "stream",
     "text": [
      "             brand      model       engine  year\n",
      "0  Abarth / Abarth  500 Rally          1.4  2018\n",
      "1  Abarth / Abarth  500 Rally          1.4  2011\n",
      "2  Abarth / Abarth       500C          1.4  2018\n",
      "3  Abarth / Abarth       500C          1.4  2011\n",
      "4  Abarth / Abarth       500C  1.4 Upgrade  2018\n",
      "5  Abarth / Abarth       500C  1.4 Upgrade  2011\n"
     ]
    }
   ],
   "source": [
    "df = pd.DataFrame(columns=['brand','model', 'engine','year'], data=Cars)\n",
    "print(df)"
   ]
  },
  {
   "cell_type": "code",
   "execution_count": null,
   "metadata": {
    "collapsed": true
   },
   "outputs": [],
   "source": []
  }
 ],
 "metadata": {
  "kernelspec": {
   "display_name": "Python 3",
   "language": "python",
   "name": "python3"
  }
 },
 "nbformat": 4,
 "nbformat_minor": 2
}
